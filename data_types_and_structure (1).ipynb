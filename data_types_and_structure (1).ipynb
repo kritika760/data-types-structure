{
  "nbformat": 4,
  "nbformat_minor": 0,
  "metadata": {
    "colab": {
      "provenance": []
    },
    "kernelspec": {
      "name": "python3",
      "display_name": "Python 3"
    },
    "language_info": {
      "name": "python"
    }
  },
  "cells": [
    {
      "cell_type": "markdown",
      "source": [
        "# Data Types And Structure"
      ],
      "metadata": {
        "id": "e7Rh_yvVSGXD"
      }
    },
    {
      "cell_type": "markdown",
      "source": [
        " # Theory question"
      ],
      "metadata": {
        "id": "1GCK-vnGShmO"
      }
    },
    {
      "cell_type": "markdown",
      "source": [
        " 1. What are data structures, and why are they important?\n",
        "- Data structures are ways of organizing and storing data in a computer so that it can be used efficiently.\n",
        "\n",
        "       Importance of data structures in Python:\n",
        "\n",
        "     Efficiency:\n",
        "Data structures allow for efficient storage and retrieval of data, which is crucial for optimizing code performance.\n",
        "\n",
        "     Organization:\n",
        "They provide a way to organize data in a logical manner, making it easier to understand and work with.\n",
        "\n",
        "     Reusability:\n",
        "Data structures can be reused across different parts of a program, reducing code duplication and improving maintainability.\n",
        "\n",
        "     Problem-solving:\n",
        "Choosing the right data structure for a specific problem can greatly impact the performance and clarity of the solution."
      ],
      "metadata": {
        "id": "meHln4EmSWte"
      }
    },
    {
      "cell_type": "markdown",
      "source": [
        " 2.   Explain the difference between mutable and immutable data types with examples\n",
        " - Mutable data types are those that can be modified after they are created, while immutable data types cannot. When a mutable object is modified, the changes occur in place, meaning the original object is altered. In contrast, when an immutable object is \"modified,\" a new object is created with the changes, leaving the original object untouched.\n",
        "\n",
        "\n",
        " Lists are mutable\n",
        "\n",
        "my_list = [1, 2, 3]\n",
        "my_list.append(4)\n",
        "print(my_list)  # Output: [1, 2, 3, 4]\n",
        "\n",
        " Dictionaries are mutable\n",
        "\n",
        "my_dict = {'a': 1, 'b': 2}\n",
        "my_dict['c'] = 3\n",
        "print(my_dict)  # Output: {'a': 1, 'b': 2, 'c': 3}\n",
        "\n",
        "Sets are mutable\n",
        "\n",
        "my_set = {1, 2, 3}\n",
        "my_set.add(4)\n",
        "print(my_set)  # Output: {1, 2, 3, 4}\n",
        "\n",
        "\n",
        "\n",
        "\n",
        "Examples of immutable data types in Python include strings, tuples, and numbers (integers, floats, etc.).\n",
        "\n",
        "\n",
        " Strings are immutable\n",
        "\n",
        "my_string = \"hello\"\n",
        "my_string[0] = 'H' # This will raise an error\n",
        "my_string = \"H\" + my_string[1:] # This creates a new string\n",
        "print(my_string) # Output: Hello\n",
        "\n",
        " Tuples are immutable\n",
        "\n",
        "my_tuple = (1, 2, 3)\n",
        " my_tuple[0] = 4  # This will raise an error\n",
        " To modify a tuple you would create a new tuple\n",
        "my_tuple = (4,) + my_tuple[1:]\n",
        "\n",
        "print(my_tuple) # Output: (4, 2, 3)\n",
        "\n",
        "\n",
        " Numbers are immutable\n",
        "\n",
        "my_number = 5\n",
        " my_number += 1 # This creates a new object\n",
        "\n",
        " print(my_number)"
      ],
      "metadata": {
        "id": "t2e6aLcdSoTf"
      }
    },
    {
      "cell_type": "code",
      "execution_count": null,
      "metadata": {
        "id": "AfbgCTwTSEnm"
      },
      "outputs": [],
      "source": []
    },
    {
      "cell_type": "markdown",
      "source": [
        " 3. What are the main differences between lists and tuples in Python?\n",
        "\n",
        "  - Lists and tuples are both fundamental sequence types in Python, but they exhibit key differences in terms of mutability, syntax, and use cases.\n",
        "\n",
        "  List example (mutable)\n",
        "\n",
        "my_list = [1, 2, 3]\n",
        "\n",
        "my_list.append(4)\n",
        "\n",
        "my_list[0] = 10\n",
        "\n",
        "print(my_list)  # Output: [10, 2, 3, 4]\n",
        "\n",
        "     Tuple example (immutable)\n",
        "\n",
        "my_tuple = (1, 2, 3)\n",
        "\n",
        " my_tuple.append(4) # This would raise an error\n",
        "\n",
        "     my_tuple[0] = 10 # This would also raise an error\n",
        "\n",
        "     print(my_tuple)  # Output: (1, 2, 3)"
      ],
      "metadata": {
        "id": "zpFfTKXmD0I6"
      }
    },
    {
      "cell_type": "markdown",
      "source": [
        "4. Describe how dictionaries store data.\n",
        "  - Python dictionaries store data as key-value pairs. Each key within a dictionary must be unique and immutable, such as strings, numbers, or tuples, while the values can be of any data type and can be duplicated. The key serves as an identifier to access its associated value."
      ],
      "metadata": {
        "id": "5NmUhpjrE18C"
      }
    },
    {
      "cell_type": "markdown",
      "source": [
        "  5 . Why might you use a set instead of a list in Python?\n",
        "  - Sets and lists serve different purposes in Python, making one more suitable than the other depending on the situation. Here's why a set might be preferred over a list:\n",
        "\n",
        "  sets are advantageous when uniqueness, fast membership testing, set operations, and order-insensitivity are desired, while lists are more appropriate when preserving order and allowing duplicates are important."
      ],
      "metadata": {
        "id": "1NPBXwx-FRYZ"
      }
    },
    {
      "cell_type": "markdown",
      "source": [
        " 6 . What is a string in Python, and how is it different from a list?\n",
        "\n",
        "  - A string is a sequence of characters between single or double quotes.\n",
        "  A list is a sequence of items, where each item could be anything (an integer, a float, a string, etc)."
      ],
      "metadata": {
        "id": "rHuPlypCIJ44"
      }
    },
    {
      "cell_type": "markdown",
      "source": [
        " 7 . How do tuples ensure data integrity in Python?\n",
        "  - uples in Python ensure data integrity through their immutability. Once a tuple is created, its elements cannot be modified, added, or removed. This characteristic prevents accidental or unintended changes to the data, guaranteeing that the information remains consistent throughout the program's execution.\n",
        "\n",
        "   my_tuple = (1, 2, 3, \"apple\")\n",
        "   \n",
        " Attempting to modify the tuple will result in an error\n",
        " my_tuple[0] = 4  # This will raise a TypeError"
      ],
      "metadata": {
        "id": "CGJNFkFGKva9"
      }
    },
    {
      "cell_type": "markdown",
      "source": [],
      "metadata": {
        "id": "Zg5U_qEoC47S"
      }
    },
    {
      "cell_type": "markdown",
      "source": [
        " 8 . What is a hash table, and how does it relate to dictionaries in Python?\n",
        "\n",
        " - A hash table is a data structure that stores key-value pairs. It uses a hash function to compute an index for each key, which determines the position of the value in an array. This allows for efficient storage and retrieval of data.\n",
        "\n",
        " in Python, dictionaries are implemented using hash tables. When a key-value pair is added to a dictionary, Python calculates the hash value of the key and uses it to determine where to store the value. This allows for fast lookups, insertions, and deletions, making dictionaries a powerful and versatile data structure."
      ],
      "metadata": {
        "id": "_mt6sdmiLOnW"
      }
    },
    {
      "cell_type": "markdown",
      "source": [
        " 9 . Can lists contain different data types in Python?\n",
        "  - Yes, lists in Python can contain elements of different data types. This is a key feature of Python lists, making them highly flexible and versatile. A single list can hold integers, strings, floats, booleans, and even other lists or data structures.\n",
        "\n"
      ],
      "metadata": {
        "id": "7MXMOk7HLqZ6"
      }
    },
    {
      "cell_type": "markdown",
      "source": [
        " 10 . Explain why strings are immutable in Python.\n",
        "  - Strings are immutable in Python for reasons related to efficiency, safety, and design principles. Immutability ensures that once a string is created, its value remains constant throughout its lifetime. This characteristic offers several advantages:\n",
        "  \n",
        "Memory optimization:\n",
        "\n",
        "When multiple variables reference the same string literal, Python only needs to store one copy of that string in memory. If strings were mutable, modifying one instance would require creating new copies, leading to increased memory consumption.\n",
        "Thread safety:\n",
        "\n",
        "Immutable strings are inherently thread-safe, as there's no risk of data corruption or race conditions when multiple threads access the same string. This simplifies concurrent programming and eliminates the need for locks or synchronization mechanisms.\n",
        "\n",
        "Dictionary keys:\n",
        "\n",
        "Immutable objects, including strings, can be used as keys in dictionaries. If strings were mutable, their hash values could change, rendering them unusable as dictionary keys.\n",
        "\n",
        "Security:\n",
        "\n",
        "Immutability prevents accidental or malicious modification of string data, which is crucial in security-sensitive contexts. For instance, if a password or API key is stored as a string, immutability ensures that it cannot be altered after creation.\n",
        "\n",
        "Simplified debugging:\n",
        "\n",
        "Immutability makes it easier to reason about program behavior, as the value of a string variable is guaranteed to remain constant unless it's explicitly reassigned. This simplifies debugging and reduces the likelihood of unexpected errors."
      ],
      "metadata": {
        "id": "C8k5PwCyMnsI"
      }
    },
    {
      "cell_type": "markdown",
      "source": [
        " 11 . What advantages do dictionaries offer over lists for certain tasks?\n",
        "  - Dictionaries and lists are fundamental data structures in Python, each suited for different purposes. Dictionaries offer advantages over lists in scenarios requiring efficient data retrieval and key-based access.\n",
        "Dictionaries store data in key-value pairs, allowing for direct access to values using their associated keys. This contrasts with lists, where elements are accessed by their numerical index. When searching for a specific element, dictionaries provide significantly faster lookup times compared to lists, especially for large datasets. This is because dictionaries use a hash table implementation, enabling near-constant time complexity for search operations, whereas lists require linear time complexity as they might necessitate traversing the entire list.\n",
        "Furthermore, dictionaries are ideal for representing structured data with named fields, such as records or configurations. The keys serve as descriptive labels for the values, enhancing code readability and maintainability. For instance, storing information about a person (name, age, address) is more intuitive and efficient using a dictionary than a list.\n",
        "However, lists are advantageous when maintaining the order of elements is crucial or when dealing with sequential data. They also support duplicate values, unlike dictionaries, where keys must be unique.\n",
        "In summary, dictionaries excel in tasks involving fast lookups, key-based access, and structured data representation, while lists are preferable for ordered collections and sequential data processing. The choice between them depends on the specific requirements of the task at hand."
      ],
      "metadata": {
        "id": "cCfl-BGRNL6J"
      }
    },
    {
      "cell_type": "markdown",
      "source": [
        " 12 . Describe a scenario where using a tuple would be preferable over a list?\n",
        "  - Tuples are preferable when data integrity is paramount. Consider representing RGB color values. Because these values should never change after being defined, a tuple is the ideal choice.\n",
        "   \n",
        "   red = (255, 0, 0)\n",
        "\n",
        " print(red[0]) # Output: 255\n",
        "\n",
        "\n",
        "   try:\n",
        "\n",
        "           red[0] = 0 # Attempting to modify a tuple element\n",
        "\n",
        "           except TypeError as e:\n",
        "\n",
        "  print(f\"Error: {e}\") # Output: 'tuple' object does not support item assignment"
      ],
      "metadata": {
        "id": "qz-e7lorRM24"
      }
    },
    {
      "cell_type": "markdown",
      "source": [
        " 13 . How do sets handle duplicate values in Python?\n",
        "  - Sets in Python are designed to store only unique elements. When an attempt is made to add a duplicate value to a set, Python automatically ignores it, ensuring that the set contains only distinct elements. This behavior is inherent to the nature of sets, which are unordered collections of unique items.\n",
        "\n",
        "  my_set = {1, 2, 2, 3, 4, 4, 5}\n",
        "\n",
        "  print(my_set)\n",
        "\n",
        " Expected output: {1, 2, 3, 4, 5}\n",
        "\n",
        "  my_set.add(3)\n",
        "\n",
        "  print(my_set)\n",
        "\n",
        " Expected output: {1, 2, 3, 4, 5}\n",
        "\n",
        " my_set.add(6)\n",
        "\n",
        " print(my_set)\n",
        "\n",
        " Expected output: {1, 2, 3, 4, 5, 6}"
      ],
      "metadata": {
        "id": "3aS7-P1FSHy0"
      }
    },
    {
      "cell_type": "markdown",
      "source": [
        " 14 . How does the “in” keyword work differently for lists and dictionaries?\n",
        "  - The \"in\" keyword in Python operates differently for lists and dictionaries due to their distinct underlying structures. For lists, it performs a sequential search, checking each element until a match is found or the list is exhausted. This results in a time complexity of O(n), where n is the number of elements in the list. In contrast, for dictionaries, \"in\" checks for the existence of a key using a hash table lookup, offering an average time complexity of O(1). This means that checking for a key in a dictionary is significantly faster, especially for large collections, compared to searching for an element in a list."
      ],
      "metadata": {
        "id": "1rtCYQBdTeh0"
      }
    },
    {
      "cell_type": "markdown",
      "source": [
        " 15 . Can you modify the elements of a tuple? Explain why or why not?\n",
        "  - No, you cannot directly modify the elements of a tuple in Python. Tuples are immutable, meaning their contents cannot be changed after creation. This is a key difference between tuples and lists, which are mutable."
      ],
      "metadata": {
        "id": "9g0EbYL6UNJY"
      }
    },
    {
      "cell_type": "markdown",
      "source": [
        " 16 .  What is a nested dictionary, and give an example of its use case?\n",
        "  -  nested dictionary is a dictionary where the value of one or more keys is another dictionary. It's essentially a dictionary within a dictionary, allowing for more complex data structures and organization.\n",
        "\n"
      ],
      "metadata": {
        "id": "OjNpt1x-Ur4S"
      }
    },
    {
      "cell_type": "markdown",
      "source": [
        " 17 . Describe the time complexity of accessing elements in a dictionary?\n",
        "\n",
        "  - he time complexity of accessing elements in a Python dictionary is, on average, O(1), which is considered constant time. This means that regardless of the size of the dictionary, accessing an element by its key takes roughly the same amount of time. This efficient access is due to the underlying implementation of dictionaries using hash tables."
      ],
      "metadata": {
        "id": "Gqe-u1tbVOqN"
      }
    },
    {
      "cell_type": "markdown",
      "source": [
        " 18 . In what situations are lists preferred over dictionaries?\n",
        "  - For quick data look-ups, configurations, or caches, favor dictionaries. For ordered collections and sequence operations, such as maintaining a stack or queue, lists are more suitable."
      ],
      "metadata": {
        "id": "S0BoEuhIdilu"
      }
    },
    {
      "cell_type": "markdown",
      "source": [
        " 19 . Why are dictionaries considered unordered, and how does that affect data retrieval?\n",
        "  - Dictionary is a data structure which is a important value structure, optimized for fast storage and recovery based on key. In python, dictionaries are un-ordered because Python dictionaries are not intended to be in order."
      ],
      "metadata": {
        "id": "bUll5CVbeay-"
      }
    },
    {
      "cell_type": "markdown",
      "source": [
        " 20 . Explain the difference between a list and a dictionary in terms of data retrieval.\n",
        "  - In terms of data retrieval, a dictionary offers significantly faster lookup of values based on unique keys compared to a list, which relies on numerical indices. Dictionaries, using a hash table, can find values associated with a key in an average of O(1) (constant) time, while lists, requiring sequential searching, have an average time complexity of O(n) (linear)."
      ],
      "metadata": {
        "id": "svQwJvQKeyhv"
      }
    },
    {
      "cell_type": "markdown",
      "source": [
        " # Practical Questions"
      ],
      "metadata": {
        "id": "TZi2iIyBgByO"
      }
    },
    {
      "cell_type": "markdown",
      "source": [
        " 1 . Write a code to create a string with your name and print it."
      ],
      "metadata": {
        "id": "PCKakpAkgKLl"
      }
    },
    {
      "cell_type": "code",
      "source": [
        " a = \"kritika\"\n",
        " print (a)"
      ],
      "metadata": {
        "colab": {
          "base_uri": "https://localhost:8080/"
        },
        "id": "vyJ5f31xgRJm",
        "outputId": "498e77de-6bb0-4911-f86b-31dab711da48"
      },
      "execution_count": null,
      "outputs": [
        {
          "output_type": "stream",
          "name": "stdout",
          "text": [
            "kritika\n"
          ]
        }
      ]
    },
    {
      "cell_type": "markdown",
      "source": [
        "2 . Write a code to find the length of the string \"Hello World\"?"
      ],
      "metadata": {
        "id": "oDtGn2TTgRq-"
      }
    },
    {
      "cell_type": "code",
      "source": [
        " s = \"Hello World\"\n",
        " len(s)"
      ],
      "metadata": {
        "colab": {
          "base_uri": "https://localhost:8080/"
        },
        "id": "ZCsTGdZTpWeK",
        "outputId": "94aa264f-1df4-4dc4-9efc-8e432dd557b0"
      },
      "execution_count": null,
      "outputs": [
        {
          "output_type": "execute_result",
          "data": {
            "text/plain": [
              "11"
            ]
          },
          "metadata": {},
          "execution_count": 2
        }
      ]
    },
    {
      "cell_type": "markdown",
      "source": [
        " 3 . Write a code to slice the first 3 characters from the string \"Python Programming"
      ],
      "metadata": {
        "id": "qHwchyyUpXAl"
      }
    },
    {
      "cell_type": "code",
      "source": [
        " str = \"Python Programming\"\n",
        " str[3:]"
      ],
      "metadata": {
        "colab": {
          "base_uri": "https://localhost:8080/",
          "height": 35
        },
        "id": "cuGjdTUCphK8",
        "outputId": "5195fb49-39d9-4bc6-84ed-d9646466561d"
      },
      "execution_count": null,
      "outputs": [
        {
          "output_type": "execute_result",
          "data": {
            "text/plain": [
              "'hon Programming'"
            ],
            "application/vnd.google.colaboratory.intrinsic+json": {
              "type": "string"
            }
          },
          "metadata": {},
          "execution_count": 3
        }
      ]
    },
    {
      "cell_type": "markdown",
      "source": [
        " 4 . Write a code to convert the string \"hello\" to uppercase."
      ],
      "metadata": {
        "id": "zLKDmiXjph6_"
      }
    },
    {
      "cell_type": "code",
      "source": [
        "a=\"hello\"\n",
        "a.upper()"
      ],
      "metadata": {
        "colab": {
          "base_uri": "https://localhost:8080/",
          "height": 35
        },
        "id": "z7V1AT__psZG",
        "outputId": "c3fe38ea-d493-4801-da16-3291aa4bd7e7"
      },
      "execution_count": null,
      "outputs": [
        {
          "output_type": "execute_result",
          "data": {
            "text/plain": [
              "'HELLO'"
            ],
            "application/vnd.google.colaboratory.intrinsic+json": {
              "type": "string"
            }
          },
          "metadata": {},
          "execution_count": 12
        }
      ]
    },
    {
      "cell_type": "markdown",
      "source": [
        " 5 . Write a code to replace the word \"apple\" with \"orange\" in the string \"I like apple\"."
      ],
      "metadata": {
        "id": "Z-_N-CBYpw6U"
      }
    },
    {
      "cell_type": "code",
      "source": [
        "text=\"i like apple\"\n",
        "text.replace(\"apple\",\"orange\")\n"
      ],
      "metadata": {
        "colab": {
          "base_uri": "https://localhost:8080/",
          "height": 35
        },
        "id": "g9phPmj_p5Vw",
        "outputId": "0e2cbc88-159b-4010-b6d4-a4bd7f07572e"
      },
      "execution_count": null,
      "outputs": [
        {
          "output_type": "execute_result",
          "data": {
            "text/plain": [
              "'i like orange'"
            ],
            "application/vnd.google.colaboratory.intrinsic+json": {
              "type": "string"
            }
          },
          "metadata": {},
          "execution_count": 15
        }
      ]
    },
    {
      "cell_type": "markdown",
      "source": [
        " 6 .  Write a code to create a list with numbers 1 to 5 and print it."
      ],
      "metadata": {
        "id": "2wu2DgPkp6lv"
      }
    },
    {
      "cell_type": "code",
      "source": [
        "list=[1,2,3,4,5]\n",
        "print(list)"
      ],
      "metadata": {
        "colab": {
          "base_uri": "https://localhost:8080/"
        },
        "id": "yI7hu9L5qA8p",
        "outputId": "a3b77715-bbf9-402b-9e27-97c15d92170b"
      },
      "execution_count": null,
      "outputs": [
        {
          "output_type": "stream",
          "name": "stdout",
          "text": [
            "[1, 2, 3, 4, 5]\n"
          ]
        }
      ]
    },
    {
      "cell_type": "markdown",
      "source": [
        " 7 . Write a code to append the number 10 to the list [1, 2, 3, 4]."
      ],
      "metadata": {
        "id": "nBMX05XkqCCM"
      }
    },
    {
      "cell_type": "code",
      "source": [
        "list=[1,2,3,4]\n",
        "list.append(10)\n",
        "print(list)"
      ],
      "metadata": {
        "colab": {
          "base_uri": "https://localhost:8080/"
        },
        "id": "jquLCuktqHis",
        "outputId": "4175bc24-b601-40af-d057-d4bc33ec52d6"
      },
      "execution_count": null,
      "outputs": [
        {
          "output_type": "stream",
          "name": "stdout",
          "text": [
            "[1, 2, 3, 4, 10]\n"
          ]
        }
      ]
    },
    {
      "cell_type": "markdown",
      "source": [
        " 8 . Write a code to remove the number 3 from the list [1, 2, 3, 4, 5]."
      ],
      "metadata": {
        "id": "Of5hDP5JqH_F"
      }
    },
    {
      "cell_type": "code",
      "source": [
        "list=[1,2,3,4,5]\n",
        "list.remove(3)\n",
        "print(list)\n"
      ],
      "metadata": {
        "colab": {
          "base_uri": "https://localhost:8080/"
        },
        "id": "6Cw0MvtlqMnc",
        "outputId": "8e6358f1-c62a-4002-8017-56b92605ecb3"
      },
      "execution_count": null,
      "outputs": [
        {
          "output_type": "stream",
          "name": "stdout",
          "text": [
            "[1, 2, 4, 5]\n"
          ]
        }
      ]
    },
    {
      "cell_type": "markdown",
      "source": [
        " 9 . Write a code to access the second element in the list ['a', 'b', 'c', 'd']."
      ],
      "metadata": {
        "id": "w1SFEdiKqNMX"
      }
    },
    {
      "cell_type": "code",
      "source": [
        "text=['a','b','c','d']\n",
        "text[1]"
      ],
      "metadata": {
        "colab": {
          "base_uri": "https://localhost:8080/",
          "height": 35
        },
        "id": "9sSE5XNxqUQT",
        "outputId": "1bc6e8ac-80f2-47c3-c6ec-c7db702a3e72"
      },
      "execution_count": null,
      "outputs": [
        {
          "output_type": "execute_result",
          "data": {
            "text/plain": [
              "'b'"
            ],
            "application/vnd.google.colaboratory.intrinsic+json": {
              "type": "string"
            }
          },
          "metadata": {},
          "execution_count": 25
        }
      ]
    },
    {
      "cell_type": "markdown",
      "source": [
        " 10 . Write a code to reverse the list [10, 20, 30, 40, 50]."
      ],
      "metadata": {
        "id": "wEKIDbuRqU-L"
      }
    },
    {
      "cell_type": "code",
      "source": [
        "code=[10,20,30,40,50]\n",
        "code.reverse()\n",
        "print(code)"
      ],
      "metadata": {
        "colab": {
          "base_uri": "https://localhost:8080/"
        },
        "id": "yPdxi7dDqcK5",
        "outputId": "d869fdca-752a-413f-aa41-ba5ee43ea86e"
      },
      "execution_count": null,
      "outputs": [
        {
          "output_type": "stream",
          "name": "stdout",
          "text": [
            "[50, 40, 30, 20, 10]\n"
          ]
        }
      ]
    },
    {
      "cell_type": "markdown",
      "source": [
        " 11 .  Write a code to create a tuple with the elements 100, 200, 300 and print it."
      ],
      "metadata": {
        "id": "xEyuNYYXqdAj"
      }
    },
    {
      "cell_type": "code",
      "source": [],
      "metadata": {
        "id": "cqGblWnKqjzF"
      },
      "execution_count": null,
      "outputs": []
    },
    {
      "cell_type": "markdown",
      "source": [
        " 12 . Write a code to access the second-to-last element of the tuple ('red', 'green', 'blue', 'yellow')."
      ],
      "metadata": {
        "id": "L3HPitnSqkXp"
      }
    },
    {
      "cell_type": "code",
      "source": [
        "code=('red','green','blue','yellow')\n",
        "code[1:]"
      ],
      "metadata": {
        "colab": {
          "base_uri": "https://localhost:8080/"
        },
        "id": "VZGHg9arqrFV",
        "outputId": "f9fd6594-eded-48ff-a93d-f908c3b55165"
      },
      "execution_count": null,
      "outputs": [
        {
          "output_type": "execute_result",
          "data": {
            "text/plain": [
              "('green', 'blue', 'yellow')"
            ]
          },
          "metadata": {},
          "execution_count": 30
        }
      ]
    },
    {
      "cell_type": "markdown",
      "source": [
        " 13 . Write a code to find the minimum number in the tuple (10, 20, 5, 15)."
      ],
      "metadata": {
        "id": "u4IqiekJqr0B"
      }
    },
    {
      "cell_type": "code",
      "source": [
        "my_tuple=(10,20,5,15)\n",
        "min_number=min(my_tuple)\n",
        "print(min_number)\n"
      ],
      "metadata": {
        "colab": {
          "base_uri": "https://localhost:8080/"
        },
        "id": "ntgcS9Zvqxd3",
        "outputId": "9dfe585e-cbe9-4a85-8a1d-74193922cac9"
      },
      "execution_count": null,
      "outputs": [
        {
          "output_type": "stream",
          "name": "stdout",
          "text": [
            "5\n"
          ]
        }
      ]
    },
    {
      "cell_type": "markdown",
      "source": [
        " 14 .  Write a code to find the index of the element \"cat\" in the tuple ('dog', 'cat', 'rabbit')."
      ],
      "metadata": {
        "id": "C8myMnndqx5u"
      }
    },
    {
      "cell_type": "code",
      "source": [
        "code=('dog','cat','rabbit')\n",
        "index=code.index('cat')\n",
        "print(index)"
      ],
      "metadata": {
        "colab": {
          "base_uri": "https://localhost:8080/"
        },
        "id": "vMhHBnPNq47N",
        "outputId": "749ed034-700b-41b6-a980-5dd67acc271f"
      },
      "execution_count": null,
      "outputs": [
        {
          "output_type": "stream",
          "name": "stdout",
          "text": [
            "1\n"
          ]
        }
      ]
    },
    {
      "cell_type": "markdown",
      "source": [
        " 15 . Write a code to create a tuple containing three different fruits and check if \"kiwi\" is in it."
      ],
      "metadata": {
        "id": "FWcbUwEuq5i7"
      }
    },
    {
      "cell_type": "code",
      "source": [
        "\n",
        "fruits= (\"apple\", \"banana\", \"cherry\", \"orange\", \"kiwi\", \"melon\", \"mango\")\n",
        "if \"kiwi\"in fruits:\n",
        "  print(\"kiwi\")\n",
        "else:\n",
        "  print('not in fruits list')"
      ],
      "metadata": {
        "id": "KjKZT3ePrAmT",
        "colab": {
          "base_uri": "https://localhost:8080/"
        },
        "outputId": "3f989922-faee-47b8-c2f4-450e6b7d5ab5"
      },
      "execution_count": null,
      "outputs": [
        {
          "output_type": "stream",
          "name": "stdout",
          "text": [
            "kiwi\n"
          ]
        }
      ]
    },
    {
      "cell_type": "markdown",
      "source": [
        " 16 . Write a code to create a set with the elements 'a', 'b', 'c' and print it."
      ],
      "metadata": {
        "id": "jwb-qHmPrBLO"
      }
    },
    {
      "cell_type": "code",
      "source": [
        "s={'a','b','c','a','b'}\n",
        "print(s)"
      ],
      "metadata": {
        "id": "DHpA_lgxrGp-",
        "colab": {
          "base_uri": "https://localhost:8080/"
        },
        "outputId": "e63277ea-22fb-4134-8bdb-b961f0e7e7e3"
      },
      "execution_count": null,
      "outputs": [
        {
          "output_type": "stream",
          "name": "stdout",
          "text": [
            "{'c', 'b', 'a'}\n"
          ]
        }
      ]
    },
    {
      "cell_type": "markdown",
      "source": [
        " 17 . Write a code to clear all elements from the set {1, 2, 3, 4, 5}."
      ],
      "metadata": {
        "id": "vU-JG6fHrIhC"
      }
    },
    {
      "cell_type": "code",
      "source": [
        "my_set = {1, 2, 3, 4, 5}\n",
        "my_set.clear()\n",
        "print(my_set)"
      ],
      "metadata": {
        "id": "2YB9u1gdrOxK",
        "colab": {
          "base_uri": "https://localhost:8080/"
        },
        "outputId": "ea8ace7f-93c4-44c1-82e3-aef1aaa26506"
      },
      "execution_count": null,
      "outputs": [
        {
          "output_type": "stream",
          "name": "stdout",
          "text": [
            "set()\n"
          ]
        }
      ]
    },
    {
      "cell_type": "markdown",
      "source": [
        " 18 . Write a code to remove the element 4 from the set {1, 2, 3, 4}."
      ],
      "metadata": {
        "id": "P2pMXhkzrPZE"
      }
    },
    {
      "cell_type": "code",
      "source": [
        "my_set = {1, 2, 3, 4}\n",
        "my_set.remove(4)\n",
        "print(my_set)"
      ],
      "metadata": {
        "id": "Qs6DURxIrYnP",
        "colab": {
          "base_uri": "https://localhost:8080/"
        },
        "outputId": "dc02d158-6e67-48ad-dd00-dcfb71c49eda"
      },
      "execution_count": null,
      "outputs": [
        {
          "output_type": "stream",
          "name": "stdout",
          "text": [
            "{1, 2, 3}\n"
          ]
        }
      ]
    },
    {
      "cell_type": "markdown",
      "source": [
        " 19 . Write a code to find the union of two sets {1, 2, 3} and {3, 4, 5}."
      ],
      "metadata": {
        "id": "pH-8pLaHrZRe"
      }
    },
    {
      "cell_type": "code",
      "source": [
        "A={1,2,3,}\n",
        "B={4,5,6}\n",
        "print(A.union(B))"
      ],
      "metadata": {
        "id": "BY-0USIJrevF",
        "colab": {
          "base_uri": "https://localhost:8080/"
        },
        "outputId": "b9de123f-376c-45ad-fa3f-0fbf47143933"
      },
      "execution_count": null,
      "outputs": [
        {
          "output_type": "stream",
          "name": "stdout",
          "text": [
            "{1, 2, 3, 4, 5, 6}\n"
          ]
        }
      ]
    },
    {
      "cell_type": "markdown",
      "source": [
        " 20 . Write a code to find the intersection of two sets {1, 2, 3} and {2, 3, 4}."
      ],
      "metadata": {
        "id": "rrJATDhKrfQo"
      }
    },
    {
      "cell_type": "markdown",
      "source": [
        " 21 .  Write a code to create a dictionary with the keys \"name\", \"age\", and \"city\", and print it."
      ],
      "metadata": {
        "id": "L7qt_R06r_KN"
      }
    },
    {
      "cell_type": "code",
      "source": [],
      "metadata": {
        "id": "jGHOOAH-sVV6"
      },
      "execution_count": null,
      "outputs": []
    },
    {
      "cell_type": "code",
      "source": [
        "set1 = {1, 2, 3}\n",
        "set2 = {2, 3, 4}\n",
        "intersection_set = (set1, set2)\n",
        "print(intersection_set)"
      ],
      "metadata": {
        "id": "ZVPrew3Mr-Rq",
        "colab": {
          "base_uri": "https://localhost:8080/"
        },
        "outputId": "d5ac8667-d775-4a24-937b-03affd60d1c1"
      },
      "execution_count": null,
      "outputs": [
        {
          "output_type": "stream",
          "name": "stdout",
          "text": [
            "({1, 2, 3}, {2, 3, 4})\n"
          ]
        }
      ]
    },
    {
      "cell_type": "markdown",
      "source": [
        " 22 .  Write a code to add a new key-value pair \"country\": \"USA\" to the dictionary {'name': 'John', 'age': 25}."
      ],
      "metadata": {
        "id": "rswDXf5tsV8R"
      }
    },
    {
      "cell_type": "code",
      "source": [
        "\n",
        "my_dic = {'name':'john','age':25}\n",
        "my_dic1={'country':'USA'}\n",
        "my_dic.update(my_dic1)\n",
        "print(my_dic)"
      ],
      "metadata": {
        "id": "QORkxfVdsb7h",
        "colab": {
          "base_uri": "https://localhost:8080/"
        },
        "outputId": "34c51d44-8ec9-47a8-f3bc-82480cfcbe39"
      },
      "execution_count": null,
      "outputs": [
        {
          "output_type": "stream",
          "name": "stdout",
          "text": [
            "{'name': 'john', 'age': 25, 'country': 'USA'}\n"
          ]
        }
      ]
    },
    {
      "cell_type": "markdown",
      "source": [
        " 23 . Write a code to access the value associated with the key \"name\" in the dictionary {'name': 'Alice', 'age': 30}"
      ],
      "metadata": {
        "id": "jpeSE6YkscZu"
      }
    },
    {
      "cell_type": "code",
      "source": [
        "my_dic={'name':'Alice','age':30}\n",
        "name_value=my_dic['name']\n",
        "print(name_value)"
      ],
      "metadata": {
        "id": "nI-AZB9kshj_",
        "colab": {
          "base_uri": "https://localhost:8080/"
        },
        "outputId": "34d8f12e-484c-44df-8483-d0667baa3df6"
      },
      "execution_count": null,
      "outputs": [
        {
          "output_type": "stream",
          "name": "stdout",
          "text": [
            "Alice\n"
          ]
        }
      ]
    },
    {
      "cell_type": "markdown",
      "source": [
        " 24 . Write a code to remove the key \"age\" from the dictionary {'name': 'Bob', 'age': 22, 'city': 'New York'}."
      ],
      "metadata": {
        "id": "_zE4ZWausiLh"
      }
    },
    {
      "cell_type": "code",
      "source": [
        "my_dic={'name':'Bob','age':22,'city':'New York'}\n",
        "del my_dic['age']\n",
        "print(my_dic)"
      ],
      "metadata": {
        "id": "y7YTlL-Osm75",
        "colab": {
          "base_uri": "https://localhost:8080/"
        },
        "outputId": "b9967c92-4d37-4650-81c5-b2b558f0c411"
      },
      "execution_count": null,
      "outputs": [
        {
          "output_type": "stream",
          "name": "stdout",
          "text": [
            "{'name': 'Bob', 'city': 'New York'}\n"
          ]
        }
      ]
    },
    {
      "cell_type": "markdown",
      "source": [
        " 25 . Write a code to check if the key \"city\" exists in the dictionary {'name': 'Alice', 'city': 'Paris'}."
      ],
      "metadata": {
        "id": "A28alyGlsnaZ"
      }
    },
    {
      "cell_type": "code",
      "source": [
        "my_dic={'name':'Alice','city':'Paris'}\n",
        "my_dic={'name':'Alice','city':'Paris'}\n",
        "if'city'in my_dic:\n",
        "  print('city exists')\n",
        "else :\n",
        "    print('city not exists')"
      ],
      "metadata": {
        "id": "AQhpvMb7sspW",
        "colab": {
          "base_uri": "https://localhost:8080/"
        },
        "outputId": "1f7436fb-f513-4276-ac44-4960a8cc4fa7"
      },
      "execution_count": null,
      "outputs": [
        {
          "output_type": "stream",
          "name": "stdout",
          "text": [
            "city exists\n"
          ]
        }
      ]
    },
    {
      "cell_type": "markdown",
      "source": [
        " 26 .  Write a code to create a list, a tuple, and a dictionary, and print them all."
      ],
      "metadata": {
        "id": "z92XexULstMu"
      }
    },
    {
      "cell_type": "code",
      "source": [
        "my_list = [1, \"hello\", 3.14, True]\n",
        "my_tuple = (1, \"hello\", 3.14, True)\n",
        "my_dict = {\"name\": \"Alice\", \"age\": 30, \"city\": \"New York\"}"
      ],
      "metadata": {
        "id": "d1pvECMRsyn8"
      },
      "execution_count": null,
      "outputs": []
    },
    {
      "cell_type": "markdown",
      "source": [
        " 27 .   Write a code to create a list of 5 random numbers between 1 and 100, sort it in ascending order, and print the\n",
        "result.(replaced)"
      ],
      "metadata": {
        "id": "diqtScfnszSX"
      }
    },
    {
      "cell_type": "code",
      "source": [
        "import random\n",
        "\n",
        "random_numbers = []\n",
        "for _ in range(5):\n",
        "    random_numbers.append(random.randint(1, 100))\n",
        "\n",
        "random_numbers.sort()\n",
        "\n",
        "print(random_numbers)"
      ],
      "metadata": {
        "id": "DzOP7VWHs35h",
        "colab": {
          "base_uri": "https://localhost:8080/"
        },
        "outputId": "e22c348a-434d-4901-8c9f-fd5bc06e530c"
      },
      "execution_count": null,
      "outputs": [
        {
          "output_type": "stream",
          "name": "stdout",
          "text": [
            "[15, 22, 46, 81, 83]\n"
          ]
        }
      ]
    },
    {
      "cell_type": "markdown",
      "source": [
        " 28 .  Write a code to create a list with strings and print the element at the third index."
      ],
      "metadata": {
        "id": "-hikoAlbs4XG"
      }
    },
    {
      "cell_type": "code",
      "source": [
        "list=[1,2,3,4]\n",
        "list.append('abhi')\n",
        "print(list)"
      ],
      "metadata": {
        "id": "pq5i2wrqs-6j",
        "colab": {
          "base_uri": "https://localhost:8080/"
        },
        "outputId": "57259c75-321c-48c7-973b-5ea7b2f063ef"
      },
      "execution_count": null,
      "outputs": [
        {
          "output_type": "stream",
          "name": "stdout",
          "text": [
            "[1, 2, 3, 4, 'abhi']\n"
          ]
        }
      ]
    },
    {
      "cell_type": "markdown",
      "source": [
        " 29 . Write a code to combine two dictionaries into one and print the result."
      ],
      "metadata": {
        "id": "qoEwBZ1Fs_iC"
      }
    },
    {
      "cell_type": "code",
      "source": [
        "students_age={'arun',23,'abhi',26,'vijay',28}\n",
        "students = ['arun', 'abhi', 'vijay']\n",
        "age = [23, 26, 28]\n",
        "for students_age in zip (students,age):\n",
        "    print(students_age)\n"
      ],
      "metadata": {
        "id": "NUOlRAwVtDxw",
        "colab": {
          "base_uri": "https://localhost:8080/"
        },
        "outputId": "46390f3b-a842-4bb1-e0d7-3f49e18c9179"
      },
      "execution_count": null,
      "outputs": [
        {
          "output_type": "stream",
          "name": "stdout",
          "text": [
            "('arun', 23)\n",
            "('abhi', 26)\n",
            "('vijay', 28)\n"
          ]
        }
      ]
    },
    {
      "cell_type": "markdown",
      "source": [
        " 30 . Write a code to convert a list of strings into a set."
      ],
      "metadata": {
        "id": "-_xUoXK-tENK"
      }
    },
    {
      "cell_type": "code",
      "source": [
        "string_list = [\"apple\", \"banana\", \"apple\", \"orange\"]\n",
        "string_set = set(string_list)\n",
        "print(string_set)"
      ],
      "metadata": {
        "id": "eMDR9DmWtJop",
        "colab": {
          "base_uri": "https://localhost:8080/"
        },
        "outputId": "da3e967d-3927-43a6-eec5-735b507e3980"
      },
      "execution_count": null,
      "outputs": [
        {
          "output_type": "stream",
          "name": "stdout",
          "text": [
            "{'apple', 'orange', 'banana'}\n"
          ]
        }
      ]
    }
  ]
}